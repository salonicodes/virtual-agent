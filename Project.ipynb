{
 "cells": [
  {
   "cell_type": "markdown",
   "metadata": {
    "collapsed": true
   },
   "source": [
    "# Question Answering Portion"
   ]
  },
  {
   "cell_type": "markdown",
   "metadata": {},
   "source": [
    "##### Importing libraries"
   ]
  },
  {
   "cell_type": "code",
   "execution_count": 1,
   "metadata": {},
   "outputs": [
    {
     "name": "stdout",
     "output_type": "stream",
     "text": [
      "Requirement already satisfied: beautifulsoup4 in c:\\users\\dr. sunil tripathi\\appdata\\local\\programs\\python\\python38-32\\lib\\site-packages (4.9.3)"
     ]
    },
    {
     "name": "stderr",
     "output_type": "stream",
     "text": [
      "WARNING: You are using pip version 20.1.1; however, version 21.0.1 is available.\n",
      "You should consider upgrading via the 'C:\\Users\\Dr. Sunil Tripathi\\AppData\\Local\\Programs\\Python\\Python38-32\\python.exe -m pip install --upgrade pip' command.\n"
     ]
    },
    {
     "name": "stdout",
     "output_type": "stream",
     "text": [
      "\n",
      "Requirement already satisfied: soupsieve>1.2; python_version >= \"3.0\" in c:\\users\\dr. sunil tripathi\\appdata\\local\\programs\\python\\python38-32\\lib\\site-packages (from beautifulsoup4) (2.2)\n",
      "Requirement already satisfied: pandas in c:\\users\\dr. sunil tripathi\\appdata\\local\\programs\\python\\python38-32\\lib\\site-packages (1.2.2)"
     ]
    },
    {
     "name": "stderr",
     "output_type": "stream",
     "text": [
      "WARNING: You are using pip version 20.1.1; however, version 21.0.1 is available.\n",
      "You should consider upgrading via the 'C:\\Users\\Dr. Sunil Tripathi\\AppData\\Local\\Programs\\Python\\Python38-32\\python.exe -m pip install --upgrade pip' command.\n"
     ]
    },
    {
     "name": "stdout",
     "output_type": "stream",
     "text": [
      "\n",
      "Requirement already satisfied: python-dateutil>=2.7.3 in c:\\users\\dr. sunil tripathi\\appdata\\local\\programs\\python\\python38-32\\lib\\site-packages (from pandas) (2.8.1)\n",
      "Requirement already satisfied: numpy>=1.16.5 in c:\\users\\dr. sunil tripathi\\appdata\\local\\programs\\python\\python38-32\\lib\\site-packages (from pandas) (1.18.5)\n",
      "Requirement already satisfied: pytz>=2017.3 in c:\\users\\dr. sunil tripathi\\appdata\\local\\programs\\python\\python38-32\\lib\\site-packages (from pandas) (2020.1)\n",
      "Requirement already satisfied: six>=1.5 in c:\\users\\dr. sunil tripathi\\appdata\\local\\programs\\python\\python38-32\\lib\\site-packages (from python-dateutil>=2.7.3->pandas) (1.15.0)\n",
      "Requirement already satisfied: matplotlib in c:\\users\\dr. sunil tripathi\\appdata\\local\\programs\\python\\python38-32\\lib\\site-packages (3.3.4)"
     ]
    },
    {
     "name": "stderr",
     "output_type": "stream",
     "text": [
      "WARNING: You are using pip version 20.1.1; however, version 21.0.1 is available.\n",
      "You should consider upgrading via the 'C:\\Users\\Dr. Sunil Tripathi\\AppData\\Local\\Programs\\Python\\Python38-32\\python.exe -m pip install --upgrade pip' command.\n"
     ]
    },
    {
     "name": "stdout",
     "output_type": "stream",
     "text": [
      "\n",
      "Requirement already satisfied: cycler>=0.10 in c:\\users\\dr. sunil tripathi\\appdata\\local\\programs\\python\\python38-32\\lib\\site-packages (from matplotlib) (0.10.0)\n",
      "Requirement already satisfied: python-dateutil>=2.1 in c:\\users\\dr. sunil tripathi\\appdata\\local\\programs\\python\\python38-32\\lib\\site-packages (from matplotlib) (2.8.1)\n",
      "Requirement already satisfied: pyparsing!=2.0.4,!=2.1.2,!=2.1.6,>=2.0.3 in c:\\users\\dr. sunil tripathi\\appdata\\local\\programs\\python\\python38-32\\lib\\site-packages (from matplotlib) (2.4.7)\n",
      "Requirement already satisfied: kiwisolver>=1.0.1 in c:\\users\\dr. sunil tripathi\\appdata\\local\\programs\\python\\python38-32\\lib\\site-packages (from matplotlib) (1.3.1)\n",
      "Requirement already satisfied: numpy>=1.15 in c:\\users\\dr. sunil tripathi\\appdata\\local\\programs\\python\\python38-32\\lib\\site-packages (from matplotlib) (1.18.5)\n",
      "Requirement already satisfied: pillow>=6.2.0 in c:\\users\\dr. sunil tripathi\\appdata\\local\\programs\\python\\python38-32\\lib\\site-packages (from matplotlib) (7.1.2)\n",
      "Requirement already satisfied: six in c:\\users\\dr. sunil tripathi\\appdata\\local\\programs\\python\\python38-32\\lib\\site-packages (from cycler>=0.10->matplotlib) (1.15.0)\n",
      "Requirement already satisfied: nltk in c:\\users\\dr. sunil tripathi\\appdata\\local\\programs\\python\\python38-32\\lib\\site-packages (3.5)"
     ]
    },
    {
     "name": "stderr",
     "output_type": "stream",
     "text": [
      "WARNING: You are using pip version 20.1.1; however, version 21.0.1 is available.\n",
      "You should consider upgrading via the 'C:\\Users\\Dr. Sunil Tripathi\\AppData\\Local\\Programs\\Python\\Python38-32\\python.exe -m pip install --upgrade pip' command.\n"
     ]
    },
    {
     "name": "stdout",
     "output_type": "stream",
     "text": [
      "\n",
      "Requirement already satisfied: regex in c:\\users\\dr. sunil tripathi\\appdata\\local\\programs\\python\\python38-32\\lib\\site-packages (from nltk) (2020.11.13)\n",
      "Requirement already satisfied: click in c:\\users\\dr. sunil tripathi\\appdata\\local\\programs\\python\\python38-32\\lib\\site-packages (from nltk) (7.1.2)\n",
      "Requirement already satisfied: tqdm in c:\\users\\dr. sunil tripathi\\appdata\\local\\programs\\python\\python38-32\\lib\\site-packages (from nltk) (4.57.0)\n",
      "Requirement already satisfied: joblib in c:\\users\\dr. sunil tripathi\\appdata\\local\\programs\\python\\python38-32\\lib\\site-packages (from nltk) (1.0.1)\n",
      "Requirement already satisfied: numpy in c:\\users\\dr. sunil tripathi\\appdata\\local\\programs\\python\\python38-32\\lib\\site-packages (1.18.5)"
     ]
    },
    {
     "name": "stderr",
     "output_type": "stream",
     "text": [
      "WARNING: You are using pip version 20.1.1; however, version 21.0.1 is available.\n",
      "You should consider upgrading via the 'C:\\Users\\Dr. Sunil Tripathi\\AppData\\Local\\Programs\\Python\\Python38-32\\python.exe -m pip install --upgrade pip' command.\n"
     ]
    },
    {
     "name": "stdout",
     "output_type": "stream",
     "text": [
      "\n",
      "Requirement already satisfied: scikit-learn in c:\\users\\dr. sunil tripathi\\appdata\\local\\programs\\python\\python38-32\\lib\\site-packages (0.24.1)"
     ]
    },
    {
     "name": "stderr",
     "output_type": "stream",
     "text": [
      "WARNING: You are using pip version 20.1.1; however, version 21.0.1 is available.\n",
      "You should consider upgrading via the 'C:\\Users\\Dr. Sunil Tripathi\\AppData\\Local\\Programs\\Python\\Python38-32\\python.exe -m pip install --upgrade pip' command.\n"
     ]
    },
    {
     "name": "stdout",
     "output_type": "stream",
     "text": [
      "\n",
      "Requirement already satisfied: numpy>=1.13.3 in c:\\users\\dr. sunil tripathi\\appdata\\local\\programs\\python\\python38-32\\lib\\site-packages (from scikit-learn) (1.18.5)\n",
      "Requirement already satisfied: scipy>=0.19.1 in c:\\users\\dr. sunil tripathi\\appdata\\local\\programs\\python\\python38-32\\lib\\site-packages (from scikit-learn) (1.4.1)\n",
      "Requirement already satisfied: joblib>=0.11 in c:\\users\\dr. sunil tripathi\\appdata\\local\\programs\\python\\python38-32\\lib\\site-packages (from scikit-learn) (1.0.1)\n",
      "Requirement already satisfied: threadpoolctl>=2.0.0 in c:\\users\\dr. sunil tripathi\\appdata\\local\\programs\\python\\python38-32\\lib\\site-packages (from scikit-learn) (2.1.0)\n"
     ]
    }
   ],
   "source": [
    "!py -m pip install beautifulsoup4\n",
    "!py -m pip install pandas\n",
    "!py -m pip install matplotlib\n",
    "!py -m pip install nltk\n",
    "!py -m pip install numpy\n",
    "!py -m pip install scikit-learn"
   ]
  },
  {
   "cell_type": "code",
   "execution_count": 1,
   "metadata": {},
   "outputs": [
    {
     "name": "stderr",
     "output_type": "stream",
     "text": [
      "[nltk_data] Downloading package stopwords to C:\\Users\\Dr. Sunil\n",
      "[nltk_data]     Tripathi\\AppData\\Roaming\\nltk_data...\n",
      "[nltk_data]   Package stopwords is already up-to-date!\n",
      "[nltk_data] Downloading package punkt to C:\\Users\\Dr. Sunil\n",
      "[nltk_data]     Tripathi\\AppData\\Roaming\\nltk_data...\n",
      "[nltk_data]   Package punkt is already up-to-date!\n",
      "[nltk_data] Downloading package wordnet to C:\\Users\\Dr. Sunil\n",
      "[nltk_data]     Tripathi\\AppData\\Roaming\\nltk_data...\n",
      "[nltk_data]   Package wordnet is already up-to-date!\n"
     ]
    },
    {
     "data": {
      "text/plain": [
       "True"
      ]
     },
     "execution_count": 1,
     "metadata": {},
     "output_type": "execute_result"
    }
   ],
   "source": [
    "#for webpage and snippet extraction\n",
    "import urllib\n",
    "import requests\n",
    "from bs4 import BeautifulSoup\n",
    "from requests import get\n",
    "import re\n",
    "import collections\n",
    "import pandas as pd\n",
    "import matplotlib.pyplot as plt\n",
    "import nltk\n",
    "nltk.download('stopwords')\n",
    "from nltk.corpus import stopwords\n",
    "\n",
    "#for answer filtering\n",
    "import io\n",
    "import random\n",
    "import string # to process standard python strings\n",
    "import warnings\n",
    "import numpy as np\n",
    "from sklearn.feature_extraction.text import TfidfVectorizer\n",
    "from sklearn.metrics.pairwise import cosine_similarity\n",
    "import warnings\n",
    "warnings.filterwarnings('ignore')\n",
    "from nltk.stem import WordNetLemmatizer\n",
    "nltk.download('popular', quiet=True)\n",
    "nltk.download('punkt')\n",
    "nltk.download('wordnet')"
   ]
  },
  {
   "cell_type": "code",
   "execution_count": 13,
   "metadata": {},
   "outputs": [
    {
     "name": "stdout",
     "output_type": "stream",
     "text": [
      "Requirement already satisfied: fake-useragent in c:\\users\\dr. sunil tripathi\\appdata\\local\\programs\\python\\python38-32\\lib\\site-packages (0.1.11)"
     ]
    },
    {
     "name": "stderr",
     "output_type": "stream",
     "text": [
      "WARNING: You are using pip version 20.1.1; however, version 21.0.1 is available.\n",
      "You should consider upgrading via the 'C:\\Users\\Dr. Sunil Tripathi\\AppData\\Local\\Programs\\Python\\Python38-32\\python.exe -m pip install --upgrade pip' command.\n"
     ]
    },
    {
     "name": "stdout",
     "output_type": "stream",
     "text": [
      "\n"
     ]
    }
   ],
   "source": [
    "!py -m pip install fake-useragent"
   ]
  },
  {
   "cell_type": "code",
   "execution_count": 2,
   "metadata": {},
   "outputs": [],
   "source": [
    "from fake_useragent import UserAgent"
   ]
  },
  {
   "cell_type": "code",
   "execution_count": 3,
   "metadata": {},
   "outputs": [],
   "source": [
    "remove_punct_dict = dict((ord(punct), None) for punct in string.punctuation)"
   ]
  },
  {
   "cell_type": "code",
   "execution_count": 4,
   "metadata": {},
   "outputs": [],
   "source": [
    "# For Keyword Matching\n",
    "GREETING_INPUTS = (\"hello\", \"hi\", \"greetings\", \"sup\", \"what's up\",\"hey\",)\n",
    "GREETING_RESPONSES = [\"hi\", \"hey\", \"*nods*\", \"hi there\", \"hello\", \"I am glad! You are talking to me\"]"
   ]
  },
  {
   "cell_type": "markdown",
   "metadata": {},
   "source": [
    "### Web Page Extraction"
   ]
  },
  {
   "cell_type": "code",
   "execution_count": 5,
   "metadata": {},
   "outputs": [],
   "source": [
    "def webpageextraction(query):\n",
    "    ua = UserAgent()\n",
    "\n",
    "    google_url = \"https://www.google.com/search?q=\" + query #+ \"&num=\" + str(number_result)\n",
    "    response = requests.get(google_url, {\"User-Agent\": ua.random})\n",
    "    soup = BeautifulSoup(response.text, \"html.parser\")\n",
    "\n",
    "    result_div = soup.find_all('div', attrs = {'class': 'ZINbbc'})\n",
    "\n",
    "    links = []\n",
    "    titles = []\n",
    "    descriptions = []\n",
    "    for r in result_div:\n",
    "        # Checks if each element is present, else, raise exception\n",
    "        try:\n",
    "            link = r.find('a', href = True)\n",
    "            title = r.find('div', attrs={'class':'vvjwJb'}).get_text()\n",
    "            description = r.find('div', attrs={'class':'s3v9rd'}).get_text()\n",
    "\n",
    "            # Check to make sure everything is present before appending\n",
    "            if link != '' and title != '' and description != '': \n",
    "                links.append(link['href'])\n",
    "                titles.append(title)\n",
    "                descriptions.append(description)\n",
    "        # Next loop if one element is not present\n",
    "        except:\n",
    "            continue\n",
    "    to_remove = []\n",
    "    clean_links = []\n",
    "    for i, l in enumerate(links):\n",
    "        clean = re.search('\\/url\\?q\\=(.*)\\&sa',l)\n",
    "\n",
    "        # Anything that doesn't fit the above pattern will be removed\n",
    "        if clean is None:\n",
    "            to_remove.append(i)\n",
    "            continue\n",
    "        if \"youtube.com\" not in clean.group(1):\n",
    "            clean_links.append(clean.group(1))\n",
    "\n",
    "    # Remove the corresponding titles & descriptions\n",
    "    for x in to_remove:\n",
    "        del titles[x]\n",
    "        del descriptions[x]\n",
    "    return clean_links\n",
    "\n",
    "    '''  query=query.replace(' ','+')\n",
    "    URL = f\"https://google.com/search?q={query}\"\n",
    "    ## user agent specification, as google returns different results for mobile and desktop\n",
    "    ### desktop user-agent\n",
    "    USER_AGENT = \"Mozilla/5.0 (Macintosh; Intel Mac OS X 10.14; rv:65.0) Gecko/20100101 Firefox/65.0\"\n",
    "    ### mobile user-agent\n",
    "    MOBILE_USER_AGENT = \"Mozilla/5.0 (Linux; Android 7.0; SM-G930V Build/NRD90M) AppleWebKit/537.36 (KHTML, like Gecko) Chrome/59.0.3071.125 Mobile Safari/537.36\"\n",
    "\n",
    "    ## user-agent must be in the headers. We pass in a dictionary for the headers in requests.\n",
    "    headers = {\"user-agent\" : USER_AGENT}\n",
    "    response = requests.get(URL, headers=headers)\n",
    "    print(response.content)\n",
    "    ## checking if the request was successful (if we obtain 200 in return, it is successful), then we put it into BeautifulSoup for content parsing\n",
    "    if response.status_code == 200:\n",
    "        soup = BeautifulSoup(response.content, \"html.parser\")\n",
    "\n",
    "    ## parsing the data and extracting all anchor links from the page. storing the results in the results list.\n",
    "    results = []\n",
    "    for g in soup.find_all('div', class_='r'):\n",
    "        anchors = g.find_all('a')\n",
    "        print(anchors)\n",
    "        if anchors:\n",
    "            link = anchors[0]['href']\n",
    "            title = g.find('h3').text\n",
    "            item = {\n",
    "                \"title\": title,\n",
    "                \"link\": link\n",
    "            }\n",
    "            results.append(item['link'])\n",
    "    print(results)\n",
    "    return results'''"
   ]
  },
  {
   "cell_type": "markdown",
   "metadata": {},
   "source": [
    "### Snippet Extraction"
   ]
  },
  {
   "cell_type": "code",
   "execution_count": 6,
   "metadata": {},
   "outputs": [],
   "source": [
    "def snippetextraction(results,i):\n",
    "    # Snippet Extraction from the obtained web page urls\n",
    "    try:\n",
    "        raw = get(results[i]).text ###this is how we can extract raw html from web pages\n",
    "    except:\n",
    "        return 'error604'\n",
    "    html = requests.get(results[i]).content\n",
    "    #1 Recoding\n",
    "    unicode_str = html.decode(\"utf8\")\n",
    "    encoded_str = unicode_str.encode(\"ascii\",'ignore')\n",
    "    news_soup = BeautifulSoup(encoded_str, \"html.parser\")\n",
    "    a_text = news_soup.find_all('p')\n",
    "    #2 Removing\n",
    "    y=[re.sub(r'<.+?>',r'',str(a)) for a in a_text]\n",
    "    y=[x.replace('\\n','') for x in y]\n",
    "    y=[x.strip() for x in y]\n",
    "    y=' '.join(y)\n",
    "    return y"
   ]
  },
  {
   "cell_type": "markdown",
   "metadata": {},
   "source": [
    "### Tokenisation"
   ]
  },
  {
   "cell_type": "code",
   "execution_count": 7,
   "metadata": {},
   "outputs": [],
   "source": [
    "def tokenise(raw):\n",
    "    #Tokenisation\n",
    "    sent_tokens = nltk.sent_tokenize(raw)# converts to list of sentences \n",
    "    #print(sent_tokens)\n",
    "    word_tokens = nltk.word_tokenize(raw)# converts to list of words\n",
    "    return sent_tokens"
   ]
  },
  {
   "cell_type": "markdown",
   "metadata": {},
   "source": [
    "### Preprocessing"
   ]
  },
  {
   "cell_type": "code",
   "execution_count": 8,
   "metadata": {},
   "outputs": [],
   "source": [
    "def LemTokens(tokens):\n",
    "    lemmer = WordNetLemmatizer()\n",
    "    return [lemmer.lemmatize(token) for token in tokens]\n",
    "remove_punct_dict = dict((ord(punct), None) for punct in string.punctuation)\n",
    "def LemNormalize(text):\n",
    "    return LemTokens(nltk.word_tokenize(text.lower().translate(remove_punct_dict)))"
   ]
  },
  {
   "cell_type": "markdown",
   "metadata": {},
   "source": [
    "### Generating Response"
   ]
  },
  {
   "cell_type": "code",
   "execution_count": 9,
   "metadata": {},
   "outputs": [],
   "source": [
    "def response(query,sent_tokens):\n",
    "    robo_response=''\n",
    "    sent_tokens.append(query)\n",
    "    TfidfVec = TfidfVectorizer(tokenizer=LemNormalize, stop_words='english')\n",
    "    tfidf = TfidfVec.fit_transform(sent_tokens)\n",
    "    vals = cosine_similarity(tfidf[-1], tfidf)\n",
    "    idx=vals.argsort()[0][-2]\n",
    "    flat = vals.flatten()\n",
    "    flat.sort()\n",
    "    req_tfidf = flat[-2]\n",
    "    if(req_tfidf==0):\n",
    "        robo_response=robo_response+\"I am sorry! I don't understand you\"\n",
    "        print(robo_response)\n",
    "        return 'error502'\n",
    "    else:\n",
    "        robo_response = robo_response+sent_tokens[idx]\n",
    "        return robo_response"
   ]
  },
  {
   "cell_type": "markdown",
   "metadata": {},
   "source": [
    "### Jarvis Greeting & Bye"
   ]
  },
  {
   "cell_type": "code",
   "execution_count": 34,
   "metadata": {},
   "outputs": [],
   "source": [
    "# for greeting the user\n",
    "def greeting(query):\n",
    "    \"\"\"If user's input is a greeting, return a greeting response\"\"\"\n",
    "    for word in query.split():\n",
    "        if word.lower() in GREETING_INPUTS:\n",
    "            return random.choice(GREETING_RESPONSES)\n",
    "        \n",
    "# for saying bye and ending the program\n",
    "def byee():\n",
    "    print(\"Jarvis: Bye! take care..\")\n",
    "    return False\n",
    "\n",
    "#for setting flag to true and introduction\n",
    "def introduce():\n",
    "    #as we are taking a variable flag (true until user keeps asking questions)\n",
    "    print(\"Jarvis: Hi! My name is Jarvis. I will answer all your queries. If you want to exit, type something like 'Bye' !\")\n",
    "    return True"
   ]
  },
  {
   "cell_type": "markdown",
   "metadata": {},
   "source": [
    "## Final Operation"
   ]
  },
  {
   "cell_type": "code",
   "execution_count": 35,
   "metadata": {},
   "outputs": [
    {
     "name": "stdout",
     "output_type": "stream",
     "text": [
      "Jarvis: Hi! My name is Jarvis. I will answer all your queries. If you want to exit, type something like 'Bye' !\n",
      "May I know your name?\n",
      "Saloni\n",
      "Jarvis: Hello  Saloni , How can I help you today?\n",
      "Saloni: plural of emojis\n",
      "Jarvis: He said the Associated Press began recommending emojis as the plural in 2014.\n",
      "https://www.grammarly.com/blog/emojis-emoji/\n",
      "Are you satisfied by my answer? Enter \"yes\" or \"no\".\n",
      "no\n",
      "Jarvis: Is the plural of 'emoji' 'emoji' or 'emojis'?\n",
      "https://www.eveningexpress.co.uk/news/emoji-or-emojis-whats-the-correct-plural/\n",
      "Are you satisfied by my answer? Enter \"yes\" or \"no\".\n",
      "yes\n",
      "Saloni: bye\n",
      "Jarvis: Bye! take care..\n"
     ]
    }
   ],
   "source": [
    "#Jarvis introduces itself\n",
    "flag=introduce()\n",
    "#site index\n",
    "print('May I know your name?')\n",
    "#User introduces\n",
    "user_name=input()\n",
    "print('Jarvis: Hello ',user_name,\", How can I help you today?\")\n",
    "\n",
    "while(flag==True):\n",
    "    i=0\n",
    "    #taking user question\n",
    "    query = input(user_name+': ')\n",
    "    query=query.lower()\n",
    "    \n",
    "    if('bye' not in query.split(' ')):\n",
    "        if(query=='thanks' or query=='thank you' ):\n",
    "            flag=False\n",
    "            print(\"Jarvis: You are welcome..\")\n",
    "        else:\n",
    "            if(greeting(query)!=None):\n",
    "                print(\"Jarvis: \"+greeting(query))\n",
    "            else:\n",
    "                result=webpageextraction(query)\n",
    "                raw=''\n",
    "                while((not raw.strip()) or (('access' in raw.lower()) and ('denied' in raw.lower()))):\n",
    "                    raw=snippetextraction(result,i)\n",
    "                    if raw=='error604':\n",
    "                        break\n",
    "                    i+=1\n",
    "                if raw=='error604':\n",
    "                    print(\"Sorry I couldn't find an answer.\")\n",
    "                    continue\n",
    "                if raw:\n",
    "                    sent_tokens=tokenise(raw)\n",
    "                else:\n",
    "                    print(\"Sorry I couldn't find an answer.\")\n",
    "                print(\"Jarvis: \",end='')\n",
    "                answer=response(query,sent_tokens)\n",
    "                if answer=='error502':\n",
    "                    continue\n",
    "                print(answer+'\\n'+result[i])\n",
    "                \n",
    "                \n",
    "                #now checking satisfaction\n",
    "                satisfied=False\n",
    "                while(not satisfied):\n",
    "                    print('Are you satisfied by my answer? Enter \"yes\" or \"no\".')\n",
    "                    if (input().lower()=='yes'):\n",
    "                        break\n",
    "                    else:\n",
    "                        i+=1\n",
    "                        raw=snippetextraction(result,i)\n",
    "                        while((not raw.strip()) or (('access' in raw.lower()) and ('denied' in raw.lower()))):\n",
    "                            raw=snippetextraction(result,i)\n",
    "                            i+=1\n",
    "                        if raw=='error604':\n",
    "                            print('Sorry, I am out of answers now.')\n",
    "                            print(\"Anything else you would like to ask?\")\n",
    "                            break\n",
    "                        if raw:\n",
    "                            sent_tokens=tokenise(raw)\n",
    "                        else:\n",
    "                            print(\"Sorry I couldn't find an answer.\")\n",
    "                        print(\"Jarvis: \",end='')\n",
    "                        print(response(query,sent_tokens)+'\\n'+result[i])\n",
    "                        \n",
    "                    \n",
    "                sent_tokens.remove(query)\n",
    "                \n",
    "    elif ('bye' in query.split(' ')):\n",
    "        flag=False\n",
    "        byee()"
   ]
  },
  {
   "cell_type": "markdown",
   "metadata": {},
   "source": [
    "### Okay, we need improvement here, but it works and finds information for us."
   ]
  },
  {
   "cell_type": "markdown",
   "metadata": {},
   "source": [
    "## But what more can we do?"
   ]
  },
  {
   "cell_type": "markdown",
   "metadata": {},
   "source": [
    "The first and foremost thing for an A.I. assistant is to speak. To make our bot talk, we will code a speak() function. This function will take audio as an argument, and then, it will pronounce it."
   ]
  },
  {
   "cell_type": "code",
   "execution_count": 19,
   "metadata": {},
   "outputs": [
    {
     "name": "stdout",
     "output_type": "stream",
     "text": [
      "Requirement already satisfied: pyttsx3 in c:\\users\\dr. sunil tripathi\\appdata\\local\\programs\\python\\python38-32\\lib\\site-packages (2.90)"
     ]
    },
    {
     "name": "stderr",
     "output_type": "stream",
     "text": [
      "WARNING: You are using pip version 20.1.1; however, version 21.0.1 is available.\n",
      "You should consider upgrading via the 'C:\\Users\\Dr. Sunil Tripathi\\AppData\\Local\\Programs\\Python\\Python38-32\\python.exe -m pip install --upgrade pip' command.\n"
     ]
    },
    {
     "name": "stdout",
     "output_type": "stream",
     "text": [
      "\n",
      "Requirement already satisfied: comtypes; platform_system == \"Windows\" in c:\\users\\dr. sunil tripathi\\appdata\\local\\programs\\python\\python38-32\\lib\\site-packages (from pyttsx3) (1.1.8)\n",
      "Requirement already satisfied: pywin32; platform_system == \"Windows\" in c:\\users\\dr. sunil tripathi\\appdata\\local\\programs\\python\\python38-32\\lib\\site-packages (from pyttsx3) (228)\n",
      "Requirement already satisfied: pypiwin32; platform_system == \"Windows\" in c:\\users\\dr. sunil tripathi\\appdata\\local\\programs\\python\\python38-32\\lib\\site-packages (from pyttsx3) (223)\n"
     ]
    }
   ],
   "source": [
    "!py -m pip install pyttsx3"
   ]
  },
  {
   "cell_type": "code",
   "execution_count": 39,
   "metadata": {},
   "outputs": [],
   "source": [
    "import pyttsx3\n",
    "engine = pyttsx3.init('sapi5')\n",
    "voice = engine.getProperty('voices') #getting details of the current voice\n",
    "engine.setProperty('voice', voice[0].id)\n",
    "def speak(audio):\n",
    "    print(audio)\n",
    "    engine.say(audio) \n",
    "    engine.runAndWait() #Without this command, speech will not be audible to us."
   ]
  },
  {
   "cell_type": "code",
   "execution_count": 36,
   "metadata": {},
   "outputs": [],
   "source": [
    "def introduce():\n",
    "    #as we are taking a variable flag (true until user keeps asking questions)\n",
    "    speak(\"Hi! My name is Jarvis. I will answer all your queries. If you want to exit, type something like 'Bye' !\")\n",
    "    return True\n",
    "def byee():\n",
    "    speak(\"Bye! take care..\")\n",
    "    return False\n",
    "\n",
    "def qas():\n",
    "    #Jarvis introduces itself\n",
    "    flag=introduce()\n",
    "    #site index\n",
    "    speak('May I know your name?')\n",
    "    #User introduces\n",
    "    user_name=input()\n",
    "    speak('Hello '+user_name+\", How can I help you today?\")\n",
    "\n",
    "    while(flag==True):\n",
    "        i=0\n",
    "        #taking user question\n",
    "        query = input(user_name+': ')\n",
    "        query=query.lower()\n",
    "\n",
    "        if('bye' not in query.split(' ')):\n",
    "            if(query=='thanks' or query=='thank you' ):\n",
    "                flag=False\n",
    "                speak(\"You are welcome..\")\n",
    "            else:\n",
    "                if(greeting(query)!=None):\n",
    "                    speak(greeting(query))\n",
    "                else:\n",
    "                    result=webpageextraction(query)\n",
    "                    raw=''\n",
    "                    while((not raw.strip()) or (('access' in raw.lower()) and ('denied' in raw.lower()))):\n",
    "                        raw=snippetextraction(result,i)\n",
    "                        if raw=='error604':\n",
    "                            break\n",
    "                        i+=1\n",
    "                    if raw=='error604':\n",
    "                        speak(\"Sorry I couldn't find an answer.\")\n",
    "                        continue\n",
    "                    if raw:\n",
    "                        sent_tokens=tokenise(raw)\n",
    "                    else:\n",
    "                        speak(\"Sorry I couldn't find an answer.\")\n",
    "                    answer=response(query,sent_tokens)\n",
    "                    if answer=='error502':\n",
    "                        continue\n",
    "                    speak(answer)\n",
    "                    print('\\n'+result[i])\n",
    "\n",
    "\n",
    "                    #now checking satisfaction\n",
    "                    satisfied=False\n",
    "                    while(not satisfied):\n",
    "                        speak('Are you satisfied by my answer? Enter \"yes\" or \"no\".')\n",
    "                        if (input().lower()=='yes'):\n",
    "                            break\n",
    "                        else:\n",
    "                            i+=1\n",
    "                            raw=snippetextraction(result,i)\n",
    "                            while((not raw.strip()) or (('access' in raw.lower()) and ('denied' in raw.lower()))):\n",
    "                                raw=snippetextraction(result,i)\n",
    "                                i+=1\n",
    "                            if raw=='error604':\n",
    "                                speak('Sorry, I am out of answers now.')\n",
    "                                speak(\"Anything else you would like to ask?\")\n",
    "                                break\n",
    "                            if raw:\n",
    "                                sent_tokens=tokenise(raw)\n",
    "                            else:\n",
    "                                speak(\"Sorry I couldn't find an answer.\")\n",
    "                            speak(response(query,sent_tokens))\n",
    "                            print('\\n'+result[i])\n",
    "                    speak(\"Is there anything else you would like to know?\")\n",
    "\n",
    "\n",
    "                    sent_tokens.remove(query)\n",
    "\n",
    "        elif ('bye' in query.split(' ')):\n",
    "            flag=False\n",
    "            byee()"
   ]
  },
  {
   "cell_type": "code",
   "execution_count": 37,
   "metadata": {
    "scrolled": true
   },
   "outputs": [
    {
     "name": "stdout",
     "output_type": "stream",
     "text": [
      "Hi! My name is Jarvis. I will answer all your queries. If you want to exit, type something like 'Bye' !\n",
      "May I know your name?\n",
      "Saloni\n",
      "Hello Saloni, How can I help you today?\n",
      "Saloni: Bye\n",
      "Bye! take care..\n"
     ]
    }
   ],
   "source": [
    "qas()"
   ]
  },
  {
   "cell_type": "code",
   "execution_count": 14,
   "metadata": {
    "scrolled": false
   },
   "outputs": [
    {
     "name": "stdout",
     "output_type": "stream",
     "text": [
      "Hi! My name is Karen. I will answer all your queries. If you want to exit, type something like 'Bye' !\n",
      "May I know your name?\n",
      "Saloni\n",
      "Hello Saloni, How can I help you today?\n",
      "Saloni: tell me something about farmer protest\n",
      "I am sorry! I don't understand you\n",
      "Saloni: farmer protests in India\n",
      "Farm laws are death warrant for farmers: Arvind Kejriwal  Agitating farmers announce series of events between February 23 and 27 to intensify their protest against three Central agricultural laws  This (farmers' protest) is politically influenced.\n",
      "\n",
      "https://en.wikipedia.org/wiki/2020%25E2%2580%25932021_Indian_farmers%2527_protest\n",
      "Are you satisfied by my answer? Enter \"yes\" or \"no\".\n",
      "no\n",
      "Photo: Reuters/Danish Siddiqui New Delhi: Citing damning examples of Reagan era policies that have led to irreparable damage to the US’s farmers, 87 farmers’ unions in the country have extended solidarity to the ongoing protests by farmers in India.\n",
      "\n",
      "https://thewire.in/agriculture/usa-farmers-unions-msp-protests-reagan\n",
      "Are you satisfied by my answer? Enter \"yes\" or \"no\".\n",
      "no\n",
      "By Esha Mitra and Julia Hollingsworth, CNN  Updated 1220 GMT (2020 HKT) February 3, 2021 New Delhi, India (CNN)Internet access remained blocked Monday in several districts of a state bordering India's capital following violent weekend clashes between police and farmers protesting controversial agricultural reforms.\n",
      "\n",
      "https://edition.cnn.com/2021/02/01/asia/india-internet-cut-farmers-intl-hnk/index.html\n",
      "Are you satisfied by my answer? Enter \"yes\" or \"no\".\n",
      "yes\n",
      "Is there anything else you would like to know?\n",
      "Saloni: pole star\n",
      "In 3000 BC, the faint star Thuban in the constellation Draco was the North Star, aligning within 0.1 distance from the celestial pole, the closest of any of the visible pole stars.\n",
      "\n",
      "https://www.britannica.com/science/polestar\n",
      "Are you satisfied by my answer? Enter \"yes\" or \"no\".\n",
      "no\n",
      "Manage regulatory and reputational risk with Pole Stars single point sanctions screening and vessel monitoring solution.\n",
      "\n",
      "https://www.polestarglobal.com/\n",
      "Are you satisfied by my answer? Enter \"yes\" or \"no\".\n",
      "no\n",
      "What’s more, the Southern Hemisphere won’t see a pole star appreciably close to the south celestial pole for another 2,000 years.\n",
      "\n",
      "https://earthsky.org/brightest-stars/polaris-the-present-day-north-star\n",
      "Are you satisfied by my answer? Enter \"yes\" or \"no\".\n",
      "yes\n",
      "Is there anything else you would like to know?\n",
      "Saloni: bye\n",
      "Bye! take care..\n"
     ]
    }
   ],
   "source": [
    "qas()"
   ]
  },
  {
   "cell_type": "markdown",
   "metadata": {},
   "source": [
    "### Okay, so now it speaks, let us make it hear us."
   ]
  },
  {
   "cell_type": "code",
   "execution_count": 20,
   "metadata": {
    "scrolled": true
   },
   "outputs": [
    {
     "name": "stdout",
     "output_type": "stream",
     "text": [
      "Requirement already satisfied: speechRecognition in c:\\users\\dr. sunil tripathi\\appdata\\local\\programs\\python\\python38-32\\lib\\site-packages (3.8.1)"
     ]
    },
    {
     "name": "stderr",
     "output_type": "stream",
     "text": [
      "WARNING: You are using pip version 20.1.1; however, version 21.0.1 is available.\n",
      "You should consider upgrading via the 'C:\\Users\\Dr. Sunil Tripathi\\AppData\\Local\\Programs\\Python\\Python38-32\\python.exe -m pip install --upgrade pip' command.\n"
     ]
    },
    {
     "name": "stdout",
     "output_type": "stream",
     "text": [
      "\n"
     ]
    }
   ],
   "source": [
    "!py -m pip install speechRecognition"
   ]
  },
  {
   "cell_type": "code",
   "execution_count": 16,
   "metadata": {},
   "outputs": [
    {
     "name": "stdout",
     "output_type": "stream",
     "text": [
      "Requirement already satisfied: PyAudio in c:\\users\\dr. sunil tripathi\\appdata\\local\\programs\\python\\python38-32\\lib\\site-packages (0.2.11)"
     ]
    },
    {
     "name": "stderr",
     "output_type": "stream",
     "text": [
      "WARNING: You are using pip version 20.1.1; however, version 21.0.1 is available.\n",
      "You should consider upgrading via the 'C:\\Users\\Dr. Sunil Tripathi\\AppData\\Local\\Programs\\Python\\Python38-32\\python.exe -m pip install --upgrade pip' command.\n"
     ]
    },
    {
     "name": "stdout",
     "output_type": "stream",
     "text": [
      "\n"
     ]
    }
   ],
   "source": [
    "!py -m pip install PyAudio"
   ]
  },
  {
   "cell_type": "code",
   "execution_count": 13,
   "metadata": {},
   "outputs": [],
   "source": [
    "import speech_recognition as sr\n",
    "import pyaudio"
   ]
  },
  {
   "cell_type": "code",
   "execution_count": 27,
   "metadata": {},
   "outputs": [],
   "source": [
    "def takeCommand():\n",
    "    #It takes microphone input from the user and returns string output\n",
    "    r = sr.Recognizer()\n",
    "    with sr.Microphone() as source:\n",
    "        r.adjust_for_ambient_noise(source)\n",
    "        print(\"Listening...\")\n",
    "        r.pause_threshold = 1\n",
    "        audio = r.listen(source, timeout=5, phrase_time_limit=3)\n",
    "        try:\n",
    "            print(\"Recognizing...\")    \n",
    "            query = r.recognize_google(audio, language='en-in') #Using google for voice recognition.\n",
    "            print(f\"You said: {query}\\n\")  #User query will be printed.\n",
    "        except Exception as e:\n",
    "            # print(e)  use only if you want to print the error!\n",
    "            print(\"Say that again please...\")   #Say that again will be printed in case of improper voice \n",
    "            return \"None\" #None string will be returned\n",
    "    return query"
   ]
  },
  {
   "cell_type": "code",
   "execution_count": 22,
   "metadata": {},
   "outputs": [
    {
     "name": "stdout",
     "output_type": "stream",
     "text": [
      "Listening...\n",
      "Recognizing...\n",
      "You said: how are you today\n",
      "\n"
     ]
    },
    {
     "data": {
      "text/plain": [
       "'how are you today'"
      ]
     },
     "execution_count": 22,
     "metadata": {},
     "output_type": "execute_result"
    }
   ],
   "source": [
    "takeCommand()"
   ]
  },
  {
   "cell_type": "code",
   "execution_count": 40,
   "metadata": {},
   "outputs": [],
   "source": [
    "def qasWithVoiceInput():\n",
    "    #Jarvis introduces itself\n",
    "    flag=introduce()\n",
    "    #site index\n",
    "    speak('May I know your name?')\n",
    "    #User introduces\n",
    "    user_name=takeCommand()\n",
    "    speak('Hello '+user_name+\", How can I help you today?\")\n",
    "\n",
    "    while(flag==True):\n",
    "        i=0\n",
    "        #taking user question\n",
    "        print(user_name+': ', end=\"\")\n",
    "        query = takeCommand()\n",
    "        query=query.lower()\n",
    "\n",
    "        if('bye' not in query.split(' ')):\n",
    "            if(query=='thanks' or query=='thank you' ):\n",
    "                flag=False\n",
    "                speak(\"You are welcome..\")\n",
    "            else:\n",
    "                if(greeting(query)!=None):\n",
    "                    speak(greeting(query))\n",
    "                else:\n",
    "                    result=webpageextraction(query)\n",
    "                    raw=''\n",
    "                    while((not raw.strip()) or (('access' in raw.lower()) and ('denied' in raw.lower()))):\n",
    "                        raw=snippetextraction(result,i)\n",
    "                        if raw=='error604':\n",
    "                            break\n",
    "                        i+=1\n",
    "                    if raw=='error604':\n",
    "                        speak(\"Sorry I couldn't find an answer.\")\n",
    "                        continue\n",
    "                    if raw:\n",
    "                        sent_tokens=tokenise(raw)\n",
    "                    else:\n",
    "                        speak(\"Sorry I couldn't find an answer.\")\n",
    "                    answer=response(query,sent_tokens)\n",
    "                    if answer=='error502':\n",
    "                        continue\n",
    "                    speak(answer)\n",
    "                    print('\\n'+result[i])\n",
    "\n",
    "\n",
    "                    #now checking satisfaction\n",
    "                    satisfied=False\n",
    "                    while(not satisfied):\n",
    "                        speak('Are you satisfied by my answer? Enter \"yes\" or \"no\".')\n",
    "                        if (takeCommand().lower()=='yes'):\n",
    "                            break\n",
    "                        else:\n",
    "                            i+=1\n",
    "                            raw=snippetextraction(result,i)\n",
    "                            while((not raw.strip()) or (('access' in raw.lower()) and ('denied' in raw.lower()))):\n",
    "                                raw=snippetextraction(result,i)\n",
    "                                i+=1\n",
    "                            if raw=='error604':\n",
    "                                speak('Sorry, I am out of answers now.')\n",
    "                                speak(\"Anything else you would like to ask?\")\n",
    "                                break\n",
    "                            if raw:\n",
    "                                sent_tokens=tokenise(raw)\n",
    "                            else:\n",
    "                                speak(\"Sorry I couldn't find an answer.\")\n",
    "                            speak(response(query,sent_tokens))\n",
    "                            print('\\n'+result[i])\n",
    "                    speak(\"Is there anything else you would like to know?\")\n",
    "\n",
    "\n",
    "                    sent_tokens.remove(query)\n",
    "\n",
    "        elif ('bye' in query.split(' ')):\n",
    "            flag=False\n",
    "            byee()"
   ]
  },
  {
   "cell_type": "code",
   "execution_count": null,
   "metadata": {
    "scrolled": false
   },
   "outputs": [
    {
     "name": "stdout",
     "output_type": "stream",
     "text": [
      "Hi! My name is Jarvis. I will answer all your queries. If you want to exit, type something like 'Bye' !\n",
      "May I know your name?\n",
      "Listening...\n",
      "Recognizing...\n",
      "You said: Saloni\n",
      "\n",
      "Hello Saloni, How can I help you today?\n",
      "Saloni: Listening...\n",
      "Recognizing...\n",
      "You said: tell me about rain\n",
      "\n",
      "[25] Rain drops associated with melting hail tend to be larger than other rain drops.\n",
      "\n",
      "https://simple.wikipedia.org/wiki/Rain\n",
      "Are you satisfied by my answer? Enter \"yes\" or \"no\".\n",
      "Listening...\n",
      "Recognizing...\n",
      "You said: no\n",
      "\n",
      "I am sorry! I don't understand you\n",
      "error502\n"
     ]
    }
   ],
   "source": [
    "qasWithVoiceInput()"
   ]
  },
  {
   "cell_type": "code",
   "execution_count": null,
   "metadata": {},
   "outputs": [
    {
     "name": "stdout",
     "output_type": "stream",
     "text": [
      "Hi! My name is Karen. I will answer all your queries. If you want to exit, type something like 'Bye' !\n",
      "May I know your name?\n",
      "Listening...\n",
      "Recognizing...\n",
      "You said: Saloni\n",
      "\n",
      "Hello Saloni, How can I help you today?\n",
      "Saloni: Listening...\n",
      "Recognizing...\n",
      "You said: tell me more about Triple IT Pune\n",
      "\n",
      "Is there any placements at IIIT Pune?\n",
      "\n",
      "https://collegedunia.com/university/57979-indian-institute-of-information-technology-iiit-pune/admission\n",
      "Are you satisfied by my answer? Enter \"yes\" or \"no\".\n",
      "Listening...\n",
      "Recognizing...\n",
      "You said: no\n",
      "\n",
      "Read More IIIT Pune Placement Following are the facilities available in Indian Institute of Information Technology, Pune: Read More IIIT Pune Hostel Ques.\n",
      "\n",
      "https://collegedunia.com/university/57979-indian-institute-of-information-technology-iiit-pune\n",
      "Are you satisfied by my answer? Enter \"yes\" or \"no\".\n",
      "Listening...\n",
      "Recognizing...\n",
      "You said: yes\n",
      "\n",
      "Is there anything else you would like to know?\n",
      "Saloni: Listening...\n",
      "Recognizing...\n",
      "You said: tell me something about farmer protest\n",
      "\n",
      "Even as the farmer protests against the three new agriculture-related laws have gathered momentum, one thing seems obvious: Much of the opposition really is just to one of the three laws.\n",
      "\n",
      "https://en.wikipedia.org/wiki/2020%25E2%2580%25932021_Indian_farmers%2527_protest\n",
      "Are you satisfied by my answer? Enter \"yes\" or \"no\".\n",
      "Listening...\n",
      "Recognizing...\n",
      "You said: yes\n",
      "\n",
      "Is there anything else you would like to know?\n",
      "Saloni: Listening...\n",
      "Recognizing...\n",
      "You said: what colour is the sky\n",
      "\n",
      "This is why we see a blue sky most of the time.\n",
      "\n",
      "https://www.quora.com/What-is-the-actual-colour-of-the-sky\n",
      "Are you satisfied by my answer? Enter \"yes\" or \"no\".\n",
      "Listening...\n",
      "Recognizing...\n",
      "You said: yes\n",
      "\n",
      "Is there anything else you would like to know?\n",
      "Saloni: Listening...\n",
      "Recognizing...\n",
      "You said: who is Gandhi\n",
      "\n",
      "Gandhi wanted to go.\n",
      "\n",
      "https://www.history.com/topics/india/mahatma-gandhi\n",
      "Are you satisfied by my answer? Enter \"yes\" or \"no\".\n",
      "Listening...\n",
      "Recognizing...\n",
      "You said: no\n",
      "\n",
      "Gandhi’s father, Karamchand Gandhi, served as a chief minister in Porbandar and other states in western India.\n",
      "\n",
      "https://www.biography.com/activist/mahatma-gandhi\n",
      "Are you satisfied by my answer? Enter \"yes\" or \"no\".\n",
      "Listening...\n",
      "Recognizing...\n",
      "You said: yes\n",
      "\n",
      "Is there anything else you would like to know?\n",
      "Saloni: Listening...\n",
      "Recognizing...\n",
      "You said: yes\n",
      "\n"
     ]
    }
   ],
   "source": [
    "qasWithVoiceInput()"
   ]
  },
  {
   "cell_type": "markdown",
   "metadata": {},
   "source": [
    "## Many many great features are coming soon..."
   ]
  },
  {
   "cell_type": "code",
   "execution_count": null,
   "metadata": {},
   "outputs": [],
   "source": []
  }
 ],
 "metadata": {
  "kernelspec": {
   "display_name": "Python 3",
   "language": "python",
   "name": "python3"
  },
  "language_info": {
   "codemirror_mode": {
    "name": "ipython",
    "version": 3
   },
   "file_extension": ".py",
   "mimetype": "text/x-python",
   "name": "python",
   "nbconvert_exporter": "python",
   "pygments_lexer": "ipython3",
   "version": "3.8.2"
  }
 },
 "nbformat": 4,
 "nbformat_minor": 2
}
